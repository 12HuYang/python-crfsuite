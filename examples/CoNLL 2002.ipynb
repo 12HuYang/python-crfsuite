{
 "metadata": {
  "name": "",
  "signature": "sha256:b71ca01afc92f2eacda4791575bb7146f275988ed0decb4c3c1e6f0e54ba31b0"
 },
 "nbformat": 3,
 "nbformat_minor": 0,
 "worksheets": [
  {
   "cells": [
    {
     "cell_type": "code",
     "collapsed": false,
     "input": [
      "from itertools import chain\n",
      "import nltk\n",
      "from sklearn.metrics import classification_report, confusion_matrix\n",
      "from sklearn.preprocessing import LabelBinarizer\n",
      "import sklearn\n",
      "import pycrfsuite\n",
      "\n",
      "print(sklearn.__version__)"
     ],
     "language": "python",
     "metadata": {},
     "outputs": [
      {
       "output_type": "stream",
       "stream": "stdout",
       "text": [
        "0.15-git\n"
       ]
      }
     ],
     "prompt_number": 1
    },
    {
     "cell_type": "markdown",
     "metadata": {},
     "source": [
      "# Let's use CoNLL 2002 data to build a NER system\n",
      "\n",
      "CoNLL2002 corpus is available in NLTK. We use Spanish data."
     ]
    },
    {
     "cell_type": "code",
     "collapsed": false,
     "input": [
      "nltk.corpus.conll2002.fileids()"
     ],
     "language": "python",
     "metadata": {},
     "outputs": [
      {
       "metadata": {},
       "output_type": "pyout",
       "prompt_number": 2,
       "text": [
        "['esp.testa', 'esp.testb', 'esp.train', 'ned.testa', 'ned.testb', 'ned.train']"
       ]
      }
     ],
     "prompt_number": 2
    },
    {
     "cell_type": "code",
     "collapsed": false,
     "input": [
      "%%time\n",
      "train_sents = list(nltk.corpus.conll2002.iob_sents('esp.train'))\n",
      "test_sents = list(nltk.corpus.conll2002.iob_sents('esp.testb'))"
     ],
     "language": "python",
     "metadata": {},
     "outputs": [
      {
       "output_type": "stream",
       "stream": "stdout",
       "text": [
        "CPU times: user 3.13 s, sys: 108 ms, total: 3.24 s\n",
        "Wall time: 3.24 s\n"
       ]
      }
     ],
     "prompt_number": 3
    },
    {
     "cell_type": "markdown",
     "metadata": {},
     "source": [
      "Data format:"
     ]
    },
    {
     "cell_type": "code",
     "collapsed": false,
     "input": [
      "train_sents[0]"
     ],
     "language": "python",
     "metadata": {},
     "outputs": [
      {
       "metadata": {},
       "output_type": "pyout",
       "prompt_number": 4,
       "text": [
        "[('Melbourne', 'NP', 'B-LOC'),\n",
        " ('(', 'Fpa', 'O'),\n",
        " ('Australia', 'NP', 'B-LOC'),\n",
        " (')', 'Fpt', 'O'),\n",
        " (',', 'Fc', 'O'),\n",
        " ('25', 'Z', 'O'),\n",
        " ('may', 'NC', 'O'),\n",
        " ('(', 'Fpa', 'O'),\n",
        " ('EFE', 'NC', 'B-ORG'),\n",
        " (')', 'Fpt', 'O'),\n",
        " ('.', 'Fp', 'O')]"
       ]
      }
     ],
     "prompt_number": 4
    },
    {
     "cell_type": "markdown",
     "metadata": {},
     "source": [
      "## Features\n",
      "\n",
      "Next, define some features. In this example we use word identity, word suffix, word shape and word POS tag; also, some information from nearby words is used. \n",
      "\n",
      "This makes a simple baseline, but you certainly can add and remove some features to get (much?) better results - experiment with it."
     ]
    },
    {
     "cell_type": "code",
     "collapsed": false,
     "input": [
      "def word2features(sent, i):\n",
      "    word = sent[i][0]\n",
      "    postag = sent[i][1]\n",
      "    features = [\n",
      "        'bias',\n",
      "        'word.lower=' + word.lower(),\n",
      "        'word[-3:]=' + word[-3:],\n",
      "        'word[-2:]=' + word[-2:],\n",
      "        'word.isupper=%s' % word.isupper(),\n",
      "        'word.istitle=%s' % word.istitle(),\n",
      "        'word.isdigit=%s' % word.isdigit(),\n",
      "        'postag=' + postag,\n",
      "        'postag[:2]=' + postag[:2],\n",
      "    ]\n",
      "    if i > 0:\n",
      "        word1 = sent[i-1][0]\n",
      "        postag1 = sent[i-1][1]\n",
      "        features.extend([\n",
      "            '-1:word.lower=' + word1.lower(),\n",
      "            '-1:word.istitle=%s' % word1.istitle(),\n",
      "            '-1:word.isupper=%s' % word1.isupper(),\n",
      "            '-1:postag=' + postag1,\n",
      "            '-1:postag[:2]=' + postag1[:2],\n",
      "        ])\n",
      "    else:\n",
      "        features.append('BOS')\n",
      "        \n",
      "    if i < len(sent)-1:\n",
      "        word1 = sent[i+1][0]\n",
      "        postag1 = sent[i+1][1]\n",
      "        features.extend([\n",
      "            '+1:word.lower=' + word1.lower(),\n",
      "            '+1:word.istitle=%s' % word1.istitle(),\n",
      "            '+1:word.isupper=%s' % word1.isupper(),\n",
      "            '+1:postag=' + postag1,\n",
      "            '+1:postag[:2]=' + postag1[:2],\n",
      "        ])\n",
      "    else:\n",
      "        features.append('EOS')\n",
      "                \n",
      "    return features\n",
      "\n",
      "\n",
      "def sent2features(sent):\n",
      "    return [word2features(sent, i) for i in range(len(sent))]\n",
      "\n",
      "def sent2labels(sent):\n",
      "    return [label for token, postag, label in sent]\n",
      "\n",
      "def sent2tokens(sent):\n",
      "    return [token for token, postag, label in sent]    "
     ],
     "language": "python",
     "metadata": {},
     "outputs": [],
     "prompt_number": 5
    },
    {
     "cell_type": "markdown",
     "metadata": {},
     "source": [
      "This is what word2features extracts:"
     ]
    },
    {
     "cell_type": "code",
     "collapsed": false,
     "input": [
      "sent2features(train_sents[0])[0]"
     ],
     "language": "python",
     "metadata": {},
     "outputs": [
      {
       "metadata": {},
       "output_type": "pyout",
       "prompt_number": 6,
       "text": [
        "['bias',\n",
        " 'word.lower=melbourne',\n",
        " 'word[-3:]=rne',\n",
        " 'word[-2:]=ne',\n",
        " 'word.isupper=False',\n",
        " 'word.istitle=True',\n",
        " 'word.isdigit=False',\n",
        " 'postag=NP',\n",
        " 'postag[:2]=NP',\n",
        " 'BOS',\n",
        " '+1:word.lower=(',\n",
        " '+1:word.istitle=False',\n",
        " '+1:word.isupper=False',\n",
        " '+1:postag=Fpa',\n",
        " '+1:postag[:2]=Fp']"
       ]
      }
     ],
     "prompt_number": 6
    },
    {
     "cell_type": "markdown",
     "metadata": {},
     "source": [
      "Extract the features from the data:"
     ]
    },
    {
     "cell_type": "code",
     "collapsed": false,
     "input": [
      "%%time\n",
      "X_train = [sent2features(s) for s in train_sents]\n",
      "y_train = [sent2labels(s) for s in train_sents]\n",
      "\n",
      "X_test = [sent2features(s) for s in test_sents]\n",
      "y_test = [sent2labels(s) for s in test_sents]"
     ],
     "language": "python",
     "metadata": {},
     "outputs": [
      {
       "output_type": "stream",
       "stream": "stdout",
       "text": [
        "CPU times: user 2.41 s, sys: 230 ms, total: 2.65 s\n",
        "Wall time: 2.65 s\n"
       ]
      }
     ],
     "prompt_number": 7
    },
    {
     "cell_type": "markdown",
     "metadata": {},
     "source": [
      "## Train the model\n",
      "\n",
      "To train the model, we create pycrfsuite.Trainer, load the training data and call 'train' method. "
     ]
    },
    {
     "cell_type": "markdown",
     "metadata": {},
     "source": [
      "Create pycrfsuite.Trainer and load the training data to CRFsuite:"
     ]
    },
    {
     "cell_type": "code",
     "collapsed": false,
     "input": [
      "%%time\n",
      "trainer = pycrfsuite.Trainer()\n",
      "\n",
      "for xseq, yseq in zip(X_train, y_train):\n",
      "    trainer.append(xseq, yseq)"
     ],
     "language": "python",
     "metadata": {},
     "outputs": [
      {
       "output_type": "stream",
       "stream": "stdout",
       "text": [
        "CPU times: user 3.28 s, sys: 45 ms, total: 3.33 s\n",
        "Wall time: 3.33 s\n"
       ]
      }
     ],
     "prompt_number": 8
    },
    {
     "cell_type": "markdown",
     "metadata": {},
     "source": [
      "Set training parameters. We will use L-BFGS training algorithm (it is default) with Elastic Net (L1 + L2) regularization."
     ]
    },
    {
     "cell_type": "code",
     "collapsed": false,
     "input": [
      "trainer.set('c1', 1.0)  # coefficient for L1 penalty\n",
      "trainer.set('c2', 1.0)  # coefficient for L2 penalty\n",
      "trainer.set('max_iterations', 100)\n",
      "\n",
      "# include transitions that are possible, but not observed\n",
      "trainer.set('feature.possible_transitions', True)"
     ],
     "language": "python",
     "metadata": {},
     "outputs": [],
     "prompt_number": 9
    },
    {
     "cell_type": "markdown",
     "metadata": {},
     "source": [
      "Possible parameters for the default training algorithm:"
     ]
    },
    {
     "cell_type": "code",
     "collapsed": false,
     "input": [
      "trainer.params()"
     ],
     "language": "python",
     "metadata": {},
     "outputs": [
      {
       "metadata": {},
       "output_type": "pyout",
       "prompt_number": 10,
       "text": [
        "['feature.minfreq',\n",
        " 'feature.possible_states',\n",
        " 'feature.possible_transitions',\n",
        " 'c1',\n",
        " 'c2',\n",
        " 'max_iterations',\n",
        " 'num_memories',\n",
        " 'epsilon',\n",
        " 'period',\n",
        " 'delta',\n",
        " 'linesearch',\n",
        " 'max_linesearch']"
       ]
      }
     ],
     "prompt_number": 10
    },
    {
     "cell_type": "markdown",
     "metadata": {},
     "source": [
      "Train the model:"
     ]
    },
    {
     "cell_type": "code",
     "collapsed": false,
     "input": [
      "%%time\n",
      "trainer.train('conll2002-esp.crfsuite')"
     ],
     "language": "python",
     "metadata": {},
     "outputs": [
      {
       "output_type": "stream",
       "stream": "stdout",
       "text": [
        "CPU times: user 27.6 s, sys: 49.2 ms, total: 27.6 s\n",
        "Wall time: 27.6 s\n"
       ]
      }
     ],
     "prompt_number": 11
    },
    {
     "cell_type": "markdown",
     "metadata": {},
     "source": [
      "trainer.train saves model to a file:"
     ]
    },
    {
     "cell_type": "code",
     "collapsed": false,
     "input": [
      "!ls -lh ./conll2002-esp.crfsuite"
     ],
     "language": "python",
     "metadata": {},
     "outputs": [
      {
       "output_type": "stream",
       "stream": "stdout",
       "text": [
        "-rw-r--r--  1 kmike  staff   516K May 14 15:14 ./conll2002-esp.crfsuite\r\n"
       ]
      }
     ],
     "prompt_number": 12
    },
    {
     "cell_type": "markdown",
     "metadata": {},
     "source": [
      "## Make predictions\n",
      "\n",
      "To use the trained model, create pycrfsuite.Tagger, open the model and use \"tag\" method:"
     ]
    },
    {
     "cell_type": "code",
     "collapsed": false,
     "input": [
      "tagger = pycrfsuite.Tagger()\n",
      "tagger.open('conll2002-esp.crfsuite')"
     ],
     "language": "python",
     "metadata": {},
     "outputs": [
      {
       "metadata": {},
       "output_type": "pyout",
       "prompt_number": 13,
       "text": [
        "<contextlib.closing at 0x12facb9d0>"
       ]
      }
     ],
     "prompt_number": 13
    },
    {
     "cell_type": "markdown",
     "metadata": {},
     "source": [
      "Let's tag a sentence to see how it works:"
     ]
    },
    {
     "cell_type": "code",
     "collapsed": false,
     "input": [
      "example_sent = test_sents[0]\n",
      "print(' '.join(sent2tokens(example_sent)), end='\\n\\n')\n",
      "\n",
      "print(\"Predicted:\", ' '.join(tagger.tag(sent2features(example_sent))))\n",
      "print(\"Correct:  \", ' '.join(sent2labels(example_sent)))"
     ],
     "language": "python",
     "metadata": {},
     "outputs": [
      {
       "output_type": "stream",
       "stream": "stdout",
       "text": [
        "La Coru\u00f1a , 23 may ( EFECOM ) .\n",
        "\n",
        "Predicted: B-LOC I-LOC O O O O B-ORG O O\n",
        "Correct:   B-LOC I-LOC O O O O B-ORG O O\n"
       ]
      }
     ],
     "prompt_number": 14
    },
    {
     "cell_type": "markdown",
     "metadata": {},
     "source": [
      "## Evaluate the model"
     ]
    },
    {
     "cell_type": "code",
     "collapsed": false,
     "input": [
      "def bio_classification_report(y_true, y_pred):\n",
      "    \"\"\"\n",
      "    Classification report for a list of BIO-encoded sequences.\n",
      "    It computes token-level metrics and discards \"O\" labels.\n",
      "    \n",
      "    Note that it requires scikit-learn 0.15+ (or a version from github master)\n",
      "    to calculate averages properly!\n",
      "    \"\"\"\n",
      "    lb = LabelBinarizer()\n",
      "    y_true_combined = lb.fit_transform(list(chain.from_iterable(y_true)))\n",
      "    y_pred_combined = lb.transform(list(chain.from_iterable(y_pred)))\n",
      "        \n",
      "    tagset = set(lb.classes_) - {'O'}\n",
      "    tagset = sorted(tagset, key=lambda tag: tag.split('-', 1)[::-1])\n",
      "    class_indices = {cls: idx for idx, cls in enumerate(lb.classes_)}\n",
      "    \n",
      "    return classification_report(\n",
      "        y_true_combined,\n",
      "        y_pred_combined,\n",
      "        labels = [class_indices[cls] for cls in tagset],\n",
      "        target_names = tagset,\n",
      "    )"
     ],
     "language": "python",
     "metadata": {},
     "outputs": [],
     "prompt_number": 15
    },
    {
     "cell_type": "markdown",
     "metadata": {},
     "source": [
      "Predict entity labels for all sentences in our testing set ('testb' Spanish data):"
     ]
    },
    {
     "cell_type": "code",
     "collapsed": false,
     "input": [
      "%%time\n",
      "y_pred = [tagger.tag(xseq) for xseq in X_test]"
     ],
     "language": "python",
     "metadata": {},
     "outputs": [
      {
       "output_type": "stream",
       "stream": "stdout",
       "text": [
        "CPU times: user 513 ms, sys: 1.96 ms, total: 515 ms\n",
        "Wall time: 514 ms\n"
       ]
      }
     ],
     "prompt_number": 17
    },
    {
     "cell_type": "markdown",
     "metadata": {},
     "source": [
      "..and check the result. Note this report is not comparable to results in CONLL2002 papers because here we check per-token results (not per-entity). Per-entity numbers will be worse.  "
     ]
    },
    {
     "cell_type": "code",
     "collapsed": false,
     "input": [
      "print(bio_classification_report(y_test, y_pred))"
     ],
     "language": "python",
     "metadata": {},
     "outputs": [
      {
       "output_type": "stream",
       "stream": "stdout",
       "text": [
        "             precision    recall  f1-score   support\n",
        "\n",
        "      B-LOC       0.76      0.73      0.74      1084\n",
        "      I-LOC       0.86      0.94      0.90       634\n",
        "     B-MISC       0.67      0.42      0.51       339\n",
        "     I-MISC       0.86      0.94      0.90       634\n",
        "      B-ORG       0.80      0.87      0.83       735\n",
        "      I-ORG       0.86      0.94      0.90       634\n",
        "      B-PER       0.60      0.52      0.56       557\n",
        "      I-PER       0.86      0.94      0.90       634\n",
        "\n",
        "avg / total       0.79      0.81      0.80      5251\n",
        "\n"
       ]
      }
     ],
     "prompt_number": 18
    },
    {
     "cell_type": "markdown",
     "metadata": {},
     "source": [
      "## Let's check what classifier learned"
     ]
    },
    {
     "cell_type": "code",
     "collapsed": false,
     "input": [
      "from collections import Counter\n",
      "info = tagger.info()\n",
      "\n",
      "def print_transitions(trans_features):\n",
      "    for (label_from, label_to), weight in trans_features:\n",
      "        print(\"%-6s -> %-7s %0.6f\" % (label_from, label_to, weight))\n",
      "\n",
      "print(\"Top likely transitions:\")\n",
      "print_transitions(Counter(info.transitions).most_common(15))\n",
      "\n",
      "print(\"\\nTop unlikely transitions:\")\n",
      "print_transitions(Counter(info.transitions).most_common()[-15:])"
     ],
     "language": "python",
     "metadata": {},
     "outputs": [
      {
       "output_type": "stream",
       "stream": "stdout",
       "text": [
        "Top likely transitions:\n",
        "B-ORG  -> I-ORG   6.841320\n",
        "I-ORG  -> I-ORG   6.491844\n",
        "B-PER  -> I-PER   6.359002\n",
        "I-MISC -> I-MISC  5.250787\n",
        "B-LOC  -> I-LOC   5.215655\n",
        "B-MISC -> I-MISC  4.544261\n",
        "I-PER  -> I-PER   4.285555\n",
        "I-LOC  -> I-LOC   4.060816\n",
        "O      -> O       1.718951\n",
        "B-LOC  -> B-LOC   1.231519\n",
        "O      -> B-ORG   1.018327\n",
        "O      -> B-MISC  0.966135\n",
        "O      -> B-LOC   0.745272\n",
        "B-ORG  -> B-LOC   0.732438\n",
        "I-PER  -> B-LOC   0.662843\n",
        "\n",
        "Top unlikely transitions:\n",
        "B-MISC -> O       -1.117662\n",
        "B-MISC -> I-LOC   -1.143083\n",
        "I-PER  -> I-MISC  -1.206864\n",
        "B-MISC -> B-MISC  -1.228871\n",
        "I-LOC  -> B-PER   -1.228928\n",
        "B-PER  -> B-PER   -1.262047\n",
        "I-PER  -> B-PER   -1.283181\n",
        "I-ORG  -> I-LOC   -1.317342\n",
        "I-MISC -> I-LOC   -1.396608\n",
        "I-PER  -> I-LOC   -1.457825\n",
        "I-PER  -> B-ORG   -1.515254\n",
        "O      -> I-ORG   -4.431892\n",
        "O      -> I-PER   -4.734070\n",
        "O      -> I-MISC  -5.151976\n",
        "O      -> I-LOC   -5.495769\n"
       ]
      }
     ],
     "prompt_number": 19
    },
    {
     "cell_type": "markdown",
     "metadata": {},
     "source": [
      "We can see that, for example, it is very likely that the beginning of an organization name (B-ORG) will be followed by a token inside organization name (I-ORG), but transitions to I-ORG from tokens with other labels are penalized. Also note I-PER -> B-LOC transition: a positive weight means that model thinks that a person name is often followed by a location.\n",
      "\n",
      "Check the state features:"
     ]
    },
    {
     "cell_type": "code",
     "collapsed": false,
     "input": [
      "def print_state_features(state_features):\n",
      "    for (attr, label), weight in state_features:\n",
      "        print(\"%0.6f %-6s %s\" % (weight, label, attr))    \n",
      "\n",
      "print(\"Top positive:\")\n",
      "print_state_features(Counter(info.state_features).most_common(20))\n",
      "\n",
      "print(\"\\nTop negative:\")\n",
      "print_state_features(Counter(info.state_features).most_common()[-20:])"
     ],
     "language": "python",
     "metadata": {},
     "outputs": [
      {
       "output_type": "stream",
       "stream": "stdout",
       "text": [
        "Top positive:\n",
        "4.202838 B-ORG  word.lower=psoe-progresistas\n",
        "3.892675 O      word.istitle=False\n",
        "3.276510 B-ORG  word.lower=efe-cantabria\n",
        "3.035500 B-PER  -1:word.lower=seg\u00fan\n",
        "2.962076 O      BOS\n",
        "2.785710 B-ORG  word.lower=telef\u00f3nica\n",
        "2.693288 B-LOC  -1:word.lower=cantabria\n",
        "2.622198 B-MISC word.isupper=True\n",
        "2.590672 B-ORG  word.lower=efe\n",
        "2.582553 B-ORG  word[-2:]=iU\n",
        "2.582553 B-ORG  word[-3:]=CiU\n",
        "2.566220 B-ORG  word.lower=ciu\n",
        "2.500637 O      word.lower=a\n",
        "2.435766 B-ORG  word[-2:]=-e\n",
        "2.413508 O      postag[:2]=Fp\n",
        "2.277078 B-MISC word.lower=justicia\n",
        "2.242137 B-LOC  -1:word.lower=nuboso\n",
        "2.177250 B-MISC word.lower=internet\n",
        "2.123603 O      word[-3:]=D\u00eda\n",
        "2.104597 B-LOC  word.lower=l\u00edbano\n",
        "\n",
        "Top negative:\n",
        "-1.270007 I-ORG  -1:word.isupper=True\n",
        "-1.272688 O      -1:word.isupper=False\n",
        "-1.282985 B-ORG  word[-2:]=ro\n",
        "-1.286593 B-ORG  postag[:2]=SP\n",
        "-1.286593 B-ORG  postag=SP\n",
        "-1.315087 I-LOC  BOS\n",
        "-1.370016 B-LOC  word[-3:]=i\u00f3n\n",
        "-1.371311 B-PER  word[-2:]=\u00f3n\n",
        "-1.397264 B-PER  word.istitle=False\n",
        "-1.546525 O      word[-2:]=nd\n",
        "-1.595949 B-PER  word[-2:]=os\n",
        "-1.689601 B-MISC -1:word.isupper=True\n",
        "-1.749930 B-MISC word.istitle=False\n",
        "-1.946208 I-PER  -1:word.lower=san\n",
        "-2.149653 O      postag[:2]=NP\n",
        "-2.149653 O      postag=NP\n",
        "-2.598432 O      word[-2:]=om\n",
        "-2.653626 B-PER  -1:word.lower=del\n",
        "-3.025112 O      word.istitle=True\n",
        "-4.539458 O      word.isupper=True\n"
       ]
      }
     ],
     "prompt_number": 20
    },
    {
     "cell_type": "markdown",
     "metadata": {},
     "source": [
      "As we can see, the model remembered names of some entities (maybe it is overfit). Also it learned that UPPERCASED or TitleCased words are likely entities of some kind, and that proper nouns are often entities."
     ]
    },
    {
     "cell_type": "markdown",
     "metadata": {},
     "source": [
      "## What to do next\n",
      "\n",
      "1. Load 'testa' Spanish data.\n",
      "2. Use it to develop better features and to find best model parameters.\n",
      "3. Apply the model to 'testb' data again.\n",
      "\n",
      "The model in this notebook is just a starting point; you certainly can do better!"
     ]
    }
   ],
   "metadata": {}
  }
 ]
}